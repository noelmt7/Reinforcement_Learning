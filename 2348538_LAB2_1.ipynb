{
 "cells": [
  {
   "cell_type": "code",
   "execution_count": 1,
   "metadata": {},
   "outputs": [],
   "source": [
    "import numpy as np \n",
    "import matplotlib.pyplot as plt "
   ]
  },
  {
   "cell_type": "markdown",
   "metadata": {},
   "source": [
    "#### Initialize the nonstationary bandit with the given number of arms.\n",
    "        \n",
    "- Parameters:\n",
    "    - n_arms (int): Number of arms (actions).\n",
    "    -  decay_rate (float): The decay rate for tracking recent rewards.\n"
   ]
  },
  {
   "cell_type": "code",
   "execution_count": 2,
   "metadata": {},
   "outputs": [],
   "source": [
    "class NonstationaryBandit:\n",
    "    def __init__ (self, n_arms, decay_rate = 0.9):\n",
    "        self.n_arms = n_arms\n",
    "        self.decay_rate = decay_rate\n",
    "        self.q_values = np.zeros(n_arms) #Estimated rewards for each arm\n",
    "        self.arm_pulls = np.zeros(n_arms) #Number of times each arm has been pulled\n",
    "        self.time_step  = 0 #Current Time step"
   ]
  },
  {
   "cell_type": "markdown",
   "metadata": {},
   "source": [
    "#### Epsilon-greedy strategy to choose an arm.\n",
    "        \n",
    " - Parameters:\n",
    "    - epsilon (float): The exploration probability.  \n",
    "    - Returns:  int: The index of the selected arm."
   ]
  },
  {
   "cell_type": "code",
   "execution_count": 3,
   "metadata": {},
   "outputs": [],
   "source": [
    "def choose_arm(self, epsilon):\n",
    "    if np.random.random() < epsilon:\n",
    "        return np.random.randint(self.n_arms) #Explore : CHoose a random arm\n",
    "    else:\n",
    "        return np.argmax(self.q_values) #Exploit : Choose the arm with the highest estimated reward"
   ]
  },
  {
   "cell_type": "code",
   "execution_count": null,
   "metadata": {},
   "outputs": [],
   "source": [
    "def update_q_value(self, arm, reward):\n",
    "    self.time_step += 1\n",
    "    self.q_values[arm] = (1 - self.decay_rate) * self.q_values[arm] + self.decay_rate * reward"
   ]
  },
  {
   "cell_type": "code",
   "execution_count": null,
   "metadata": {},
   "outputs": [],
   "source": []
  }
 ],
 "metadata": {
  "kernelspec": {
   "display_name": "Python 3",
   "language": "python",
   "name": "python3"
  },
  "language_info": {
   "codemirror_mode": {
    "name": "ipython",
    "version": 3
   },
   "file_extension": ".py",
   "mimetype": "text/x-python",
   "name": "python",
   "nbconvert_exporter": "python",
   "pygments_lexer": "ipython3",
   "version": "3.12.6"
  }
 },
 "nbformat": 4,
 "nbformat_minor": 2
}
