{
 "cells": [
  {
   "cell_type": "code",
   "execution_count": 1,
   "metadata": {},
   "outputs": [],
   "source": [
    "import gym\n",
    "import numpy as np\n",
    "from collections import defaultdict"
   ]
  },
  {
   "cell_type": "code",
   "execution_count": 2,
   "metadata": {},
   "outputs": [],
   "source": [
    "env = gym.make('CartPole-v1')"
   ]
  },
  {
   "cell_type": "code",
   "execution_count": 4,
   "metadata": {},
   "outputs": [],
   "source": [
    "def mc_prediction(policy, env, num_episodes, gamma=1.0):\n",
    "    returns_sum = defaultdict(float)\n",
    "    returns_count = defaultdict(float)\n",
    "    V = defaultdict(float)\n",
    "\n",
    "    for _ in range(num_episodes):\n",
    "        episode = []\n",
    "        state = tuple(env.reset())\n",
    "        done = False\n",
    "        while not done:\n",
    "            action = policy(state)\n",
    "            next_state, reward, done, _ = env.step(action)\n",
    "            episode.append((state, action, reward))\n",
    "            state = tuple(next_state)\n",
    "        \n",
    "        G = 0\n",
    "        for state, action, reward in reversed(episode):\n",
    "            G = gamma * G + reward\n",
    "            if state not in [x[0] for x in episode[:-1]]:\n",
    "                returns_sum[state] += G\n",
    "                returns_count[state] += 1\n",
    "                V[state] = returns_sum[state] / returns_count[state]\n",
    "\n",
    "    return V"
   ]
  },
  {
   "cell_type": "code",
   "execution_count": 7,
   "metadata": {},
   "outputs": [],
   "source": [
    "def mc_epsilo_greedy(env, num_episodes, gamma=1.0, epsilon=0.1):\n",
    "    Q = defaultdict(lambda: np.zeros(env.action_space.n))\n",
    "    returns_sum = defaultdict(float)\n",
    "    returns_count = defaultdict(float)\n",
    "\n",
    "    def policy(state):\n",
    "        if np.random.rand() < epsilon:\n",
    "            return np.random.choice(env.action_space.n)\n",
    "        else:\n",
    "            return np.argmax(Q[state])\n",
    "\n",
    "    for _ in range(num_episodes):\n",
    "        episode = []\n",
    "        state = tuple(env.reset())\n",
    "        done = False\n",
    "\n",
    "        while not done:\n",
    "            action = policy(state)\n",
    "            next_state, reward, done, _ = env.step(action)\n",
    "            episode.append((state, action, reward))\n",
    "            state = next_state\n",
    "\n",
    "        G = 0\n",
    "        for state, action, reward in reversed(episode):\n",
    "            G = gamma * G + reward\n",
    "            if (state, action) not in [(x[0], x[1]) for x in episode[:-1]]:\n",
    "                returns_sum[(state, action)] += G\n",
    "                returns_count[(state, action)] += 1\n",
    "                Q[state][action] = returns_sum[(state, action)] / returns_count[(state, action)]\n",
    "\n",
    "    def optimal_policy(state):\n",
    "        return np.argmax(Q[state])\n",
    "    \n",
    "    return Q, optimal_policy\n"
   ]
  },
  {
   "cell_type": "code",
   "execution_count": null,
   "metadata": {},
   "outputs": [
    {
     "ename": "SyntaxError",
     "evalue": "'return' outside function (1206397702.py, line 4)",
     "output_type": "error",
     "traceback": [
      "\u001b[1;36m  Cell \u001b[1;32mIn[6], line 4\u001b[1;36m\u001b[0m\n\u001b[1;33m    return Q, optimal_policy\u001b[0m\n\u001b[1;37m    ^\u001b[0m\n\u001b[1;31mSyntaxError\u001b[0m\u001b[1;31m:\u001b[0m 'return' outside function\n"
     ]
    }
   ],
   "source": [
    "if __name__ == \"__main__\":\n",
    "    def sample_policy(state):\n",
    "        return 0 if state[0] >=20 else 1\n",
    "    \n",
    "    value_function = mc_prediction(sample_policy, env, num_episodes=50000)\n",
    "    print(\"Value function: \", dict(list(value_function.items())[:5]))"
   ]
  },
  {
   "cell_type": "code",
   "execution_count": null,
   "metadata": {},
   "outputs": [],
   "source": []
  }
 ],
 "metadata": {
  "kernelspec": {
   "display_name": "Python 3",
   "language": "python",
   "name": "python3"
  },
  "language_info": {
   "codemirror_mode": {
    "name": "ipython",
    "version": 3
   },
   "file_extension": ".py",
   "mimetype": "text/x-python",
   "name": "python",
   "nbconvert_exporter": "python",
   "pygments_lexer": "ipython3",
   "version": "3.12.5"
  }
 },
 "nbformat": 4,
 "nbformat_minor": 2
}
